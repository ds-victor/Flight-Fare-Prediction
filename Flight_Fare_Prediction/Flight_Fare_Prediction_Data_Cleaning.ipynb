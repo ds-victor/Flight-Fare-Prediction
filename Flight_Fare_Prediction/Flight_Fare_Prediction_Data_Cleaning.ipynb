{
 "cells": [
  {
   "cell_type": "markdown",
   "id": "831ee40a",
   "metadata": {},
   "source": [
    "# Flight Fare Prediction Project Life Cycle\n",
    "- Business Problem Understanding\n",
    "- Data Collection\n",
    "- Data Pre-processing\n",
    "- Exploratory Data Analysis\n",
    "- Model Selection\n",
    "- Model Training\n",
    "- Model Evaluation & Fine Tuning\n",
    "- Model Deployment\n",
    "- Model Monitoring & Maintainance"
   ]
  },
  {
   "cell_type": "markdown",
   "id": "fc249053",
   "metadata": {},
   "source": [
    "## Business Problem\n",
    "Flight Fare is determined dynamically by airlines and it depends on various factors like:\n",
    "- Flight Duration\n",
    "- Demand\n",
    "- No of stops\n",
    "- Route\n",
    "- No of days in advance the booking is made\n",
    "- Time of Departure and Arrival\n",
    "\n",
    "We need to create a model which can predict the flight fare given it's parameters"
   ]
  },
  {
   "cell_type": "markdown",
   "id": "e42ddc44",
   "metadata": {},
   "source": [
    "## Data Collection\n",
    "Link: https://drive.google.com/file/d/1n9FqH3D1-nvviwvktEZeW4cgEPacGuRe/view?usp=sharing"
   ]
  },
  {
   "cell_type": "code",
   "execution_count": 1,
   "id": "00939ce4",
   "metadata": {},
   "outputs": [],
   "source": [
    "# Importing Necessary Libraries\n",
    "import numpy as np\n",
    "import pandas as pd\n",
    "import matplotlib.pyplot as plt\n",
    "import seaborn as sns"
   ]
  },
  {
   "cell_type": "code",
   "execution_count": 37,
   "id": "e263288a",
   "metadata": {},
   "outputs": [],
   "source": [
    "# Loading the dataset\n",
    "data = pd.read_csv(\"B:\\Summer_Training_2024\\Flight_Fare_Prediction\\Flight_Data.csv\", low_memory = False)"
   ]
  },
  {
   "cell_type": "code",
   "execution_count": 3,
   "id": "71eb7738",
   "metadata": {},
   "outputs": [
    {
     "data": {
      "text/html": [
       "<div>\n",
       "<style scoped>\n",
       "    .dataframe tbody tr th:only-of-type {\n",
       "        vertical-align: middle;\n",
       "    }\n",
       "\n",
       "    .dataframe tbody tr th {\n",
       "        vertical-align: top;\n",
       "    }\n",
       "\n",
       "    .dataframe thead th {\n",
       "        text-align: right;\n",
       "    }\n",
       "</style>\n",
       "<table border=\"1\" class=\"dataframe\">\n",
       "  <thead>\n",
       "    <tr style=\"text-align: right;\">\n",
       "      <th></th>\n",
       "      <th>Unnamed: 0</th>\n",
       "      <th>airline</th>\n",
       "      <th>flight</th>\n",
       "      <th>source_city</th>\n",
       "      <th>departure_time</th>\n",
       "      <th>stops</th>\n",
       "      <th>arrival_time</th>\n",
       "      <th>destination_city</th>\n",
       "      <th>class</th>\n",
       "      <th>duration</th>\n",
       "      <th>days_left</th>\n",
       "      <th>price</th>\n",
       "      <th>date</th>\n",
       "    </tr>\n",
       "  </thead>\n",
       "  <tbody>\n",
       "    <tr>\n",
       "      <th>0</th>\n",
       "      <td>0</td>\n",
       "      <td>SpiceJet</td>\n",
       "      <td>SG-8709</td>\n",
       "      <td>Delhi</td>\n",
       "      <td>Evening</td>\n",
       "      <td>zero</td>\n",
       "      <td>Night</td>\n",
       "      <td>Mumbai</td>\n",
       "      <td>Economy</td>\n",
       "      <td>2.17</td>\n",
       "      <td>1</td>\n",
       "      <td>5953</td>\n",
       "      <td>01-01-2018</td>\n",
       "    </tr>\n",
       "    <tr>\n",
       "      <th>1</th>\n",
       "      <td>1</td>\n",
       "      <td>SpiceJet</td>\n",
       "      <td>SG-8157</td>\n",
       "      <td>Delhi</td>\n",
       "      <td>Early_Morning</td>\n",
       "      <td>zero</td>\n",
       "      <td>Morning</td>\n",
       "      <td>Mumbai</td>\n",
       "      <td>Economy</td>\n",
       "      <td>2.33</td>\n",
       "      <td>1</td>\n",
       "      <td>5953</td>\n",
       "      <td>02-01-2018</td>\n",
       "    </tr>\n",
       "    <tr>\n",
       "      <th>2</th>\n",
       "      <td>2</td>\n",
       "      <td>AirAsia</td>\n",
       "      <td>I5-764</td>\n",
       "      <td>Delhi</td>\n",
       "      <td>Early_Morning</td>\n",
       "      <td>zero</td>\n",
       "      <td>Early_Morning</td>\n",
       "      <td>Mumbai</td>\n",
       "      <td>Economy</td>\n",
       "      <td>2.17</td>\n",
       "      <td>1</td>\n",
       "      <td>5956</td>\n",
       "      <td>03-01-2018</td>\n",
       "    </tr>\n",
       "    <tr>\n",
       "      <th>3</th>\n",
       "      <td>3</td>\n",
       "      <td>Vistara</td>\n",
       "      <td>UK-995</td>\n",
       "      <td>Delhi</td>\n",
       "      <td>Morning</td>\n",
       "      <td>zero</td>\n",
       "      <td>Afternoon</td>\n",
       "      <td>Mumbai</td>\n",
       "      <td>Economy</td>\n",
       "      <td>2.25</td>\n",
       "      <td>1</td>\n",
       "      <td>5955</td>\n",
       "      <td>04-01-2018</td>\n",
       "    </tr>\n",
       "    <tr>\n",
       "      <th>4</th>\n",
       "      <td>4</td>\n",
       "      <td>Vistara</td>\n",
       "      <td>UK-963</td>\n",
       "      <td>Delhi</td>\n",
       "      <td>Morning</td>\n",
       "      <td>zero</td>\n",
       "      <td>Morning</td>\n",
       "      <td>Mumbai</td>\n",
       "      <td>Economy</td>\n",
       "      <td>2.33</td>\n",
       "      <td>1</td>\n",
       "      <td>5955</td>\n",
       "      <td>05-01-2018</td>\n",
       "    </tr>\n",
       "  </tbody>\n",
       "</table>\n",
       "</div>"
      ],
      "text/plain": [
       "   Unnamed: 0   airline   flight source_city departure_time stops  \\\n",
       "0           0  SpiceJet  SG-8709       Delhi        Evening  zero   \n",
       "1           1  SpiceJet  SG-8157       Delhi  Early_Morning  zero   \n",
       "2           2   AirAsia   I5-764       Delhi  Early_Morning  zero   \n",
       "3           3   Vistara   UK-995       Delhi        Morning  zero   \n",
       "4           4   Vistara   UK-963       Delhi        Morning  zero   \n",
       "\n",
       "    arrival_time destination_city    class  duration  days_left price  \\\n",
       "0          Night           Mumbai  Economy      2.17          1  5953   \n",
       "1        Morning           Mumbai  Economy      2.33          1  5953   \n",
       "2  Early_Morning           Mumbai  Economy      2.17          1  5956   \n",
       "3      Afternoon           Mumbai  Economy      2.25          1  5955   \n",
       "4        Morning           Mumbai  Economy      2.33          1  5955   \n",
       "\n",
       "         date  \n",
       "0  01-01-2018  \n",
       "1  02-01-2018  \n",
       "2  03-01-2018  \n",
       "3  04-01-2018  \n",
       "4  05-01-2018  "
      ]
     },
     "execution_count": 3,
     "metadata": {},
     "output_type": "execute_result"
    }
   ],
   "source": [
    "# Checking the data\n",
    "data.head()"
   ]
  },
  {
   "cell_type": "code",
   "execution_count": 38,
   "id": "f9e57a45",
   "metadata": {},
   "outputs": [
    {
     "data": {
      "text/html": [
       "<div>\n",
       "<style scoped>\n",
       "    .dataframe tbody tr th:only-of-type {\n",
       "        vertical-align: middle;\n",
       "    }\n",
       "\n",
       "    .dataframe tbody tr th {\n",
       "        vertical-align: top;\n",
       "    }\n",
       "\n",
       "    .dataframe thead th {\n",
       "        text-align: right;\n",
       "    }\n",
       "</style>\n",
       "<table border=\"1\" class=\"dataframe\">\n",
       "  <thead>\n",
       "    <tr style=\"text-align: right;\">\n",
       "      <th></th>\n",
       "      <th>Unnamed: 0</th>\n",
       "      <th>airline</th>\n",
       "      <th>flight</th>\n",
       "      <th>source_city</th>\n",
       "      <th>departure_time</th>\n",
       "      <th>stops</th>\n",
       "      <th>arrival_time</th>\n",
       "      <th>destination_city</th>\n",
       "      <th>class</th>\n",
       "      <th>duration</th>\n",
       "      <th>days_left</th>\n",
       "      <th>price</th>\n",
       "      <th>date</th>\n",
       "    </tr>\n",
       "  </thead>\n",
       "  <tbody>\n",
       "    <tr>\n",
       "      <th>301201</th>\n",
       "      <td>1300218</td>\n",
       "      <td>Vistara</td>\n",
       "      <td>UK-747</td>\n",
       "      <td>Delhi</td>\n",
       "      <td>Early_Morning</td>\n",
       "      <td>one</td>\n",
       "      <td>Night</td>\n",
       "      <td>Mumbai</td>\n",
       "      <td>Economy</td>\n",
       "      <td>113.83</td>\n",
       "      <td>1</td>\n",
       "      <td>14985</td>\n",
       "      <td>15-03-2018</td>\n",
       "    </tr>\n",
       "    <tr>\n",
       "      <th>301202</th>\n",
       "      <td>1300219</td>\n",
       "      <td>Air_India</td>\n",
       "      <td>AI-512</td>\n",
       "      <td>Delhi</td>\n",
       "      <td>Afternoon</td>\n",
       "      <td>one</td>\n",
       "      <td>Night</td>\n",
       "      <td>Mumbai</td>\n",
       "      <td>Economy</td>\n",
       "      <td>97.58</td>\n",
       "      <td>1</td>\n",
       "      <td>14670</td>\n",
       "      <td>16-03-2018</td>\n",
       "    </tr>\n",
       "    <tr>\n",
       "      <th>301203</th>\n",
       "      <td>1300220</td>\n",
       "      <td>Air_India</td>\n",
       "      <td>AI-537</td>\n",
       "      <td>Delhi</td>\n",
       "      <td>Evening</td>\n",
       "      <td>one</td>\n",
       "      <td>Morning</td>\n",
       "      <td>Mumbai</td>\n",
       "      <td>Economy</td>\n",
       "      <td>115.83</td>\n",
       "      <td>1</td>\n",
       "      <td>15195</td>\n",
       "      <td>17-03-2018</td>\n",
       "    </tr>\n",
       "    <tr>\n",
       "      <th>301204</th>\n",
       "      <td>1300221</td>\n",
       "      <td>Vistara</td>\n",
       "      <td>UK-977</td>\n",
       "      <td>Delhi</td>\n",
       "      <td>Evening</td>\n",
       "      <td>zero</td>\n",
       "      <td>Night</td>\n",
       "      <td>Mumbai</td>\n",
       "      <td>Economy</td>\n",
       "      <td>622.25</td>\n",
       "      <td>1</td>\n",
       "      <td>15720</td>\n",
       "      <td>18-03-2018</td>\n",
       "    </tr>\n",
       "    <tr>\n",
       "      <th>301205</th>\n",
       "      <td>1300222</td>\n",
       "      <td>Vistara</td>\n",
       "      <td>UK-809</td>\n",
       "      <td>Delhi</td>\n",
       "      <td>Evening</td>\n",
       "      <td>one</td>\n",
       "      <td>Night</td>\n",
       "      <td>Mumbai</td>\n",
       "      <td>Economy</td>\n",
       "      <td>124.42</td>\n",
       "      <td>1</td>\n",
       "      <td>15983</td>\n",
       "      <td>19-03-2018</td>\n",
       "    </tr>\n",
       "  </tbody>\n",
       "</table>\n",
       "</div>"
      ],
      "text/plain": [
       "        Unnamed: 0    airline  flight source_city departure_time stops  \\\n",
       "301201     1300218    Vistara  UK-747       Delhi  Early_Morning   one   \n",
       "301202     1300219  Air_India  AI-512       Delhi      Afternoon   one   \n",
       "301203     1300220  Air_India  AI-537       Delhi        Evening   one   \n",
       "301204     1300221    Vistara  UK-977       Delhi        Evening  zero   \n",
       "301205     1300222    Vistara  UK-809       Delhi        Evening   one   \n",
       "\n",
       "       arrival_time destination_city    class  duration  days_left  price  \\\n",
       "301201        Night           Mumbai  Economy    113.83          1  14985   \n",
       "301202        Night           Mumbai  Economy     97.58          1  14670   \n",
       "301203      Morning           Mumbai  Economy    115.83          1  15195   \n",
       "301204        Night           Mumbai  Economy    622.25          1  15720   \n",
       "301205        Night           Mumbai  Economy    124.42          1  15983   \n",
       "\n",
       "              date  \n",
       "301201  15-03-2018  \n",
       "301202  16-03-2018  \n",
       "301203  17-03-2018  \n",
       "301204  18-03-2018  \n",
       "301205  19-03-2018  "
      ]
     },
     "execution_count": 38,
     "metadata": {},
     "output_type": "execute_result"
    }
   ],
   "source": [
    "data.tail()"
   ]
  },
  {
   "cell_type": "code",
   "execution_count": 39,
   "id": "7696c9b6",
   "metadata": {},
   "outputs": [
    {
     "name": "stdout",
     "output_type": "stream",
     "text": [
      "<class 'pandas.core.frame.DataFrame'>\n",
      "RangeIndex: 301206 entries, 0 to 301205\n",
      "Data columns (total 13 columns):\n",
      " #   Column            Non-Null Count   Dtype  \n",
      "---  ------            --------------   -----  \n",
      " 0   Unnamed: 0        301206 non-null  int64  \n",
      " 1   airline           300754 non-null  object \n",
      " 2   flight            301206 non-null  object \n",
      " 3   source_city       301206 non-null  object \n",
      " 4   departure_time    301206 non-null  object \n",
      " 5   stops             301206 non-null  object \n",
      " 6   arrival_time      301206 non-null  object \n",
      " 7   destination_city  301206 non-null  object \n",
      " 8   class             301006 non-null  object \n",
      " 9   duration          300956 non-null  float64\n",
      " 10  days_left         301206 non-null  int64  \n",
      " 11  price             301106 non-null  object \n",
      " 12  date              358 non-null     object \n",
      "dtypes: float64(1), int64(2), object(10)\n",
      "memory usage: 29.9+ MB\n"
     ]
    }
   ],
   "source": [
    "data.info()"
   ]
  },
  {
   "cell_type": "code",
   "execution_count": 40,
   "id": "32c2f8fd",
   "metadata": {},
   "outputs": [],
   "source": [
    "# Creating a copy of the dataset\n",
    "df = data.copy()"
   ]
  },
  {
   "cell_type": "markdown",
   "id": "b3374d9d",
   "metadata": {},
   "source": [
    "## Data Pre-processing"
   ]
  },
  {
   "cell_type": "code",
   "execution_count": 41,
   "id": "a392e8c2",
   "metadata": {},
   "outputs": [
    {
     "data": {
      "text/plain": [
       "(301206, 13)"
      ]
     },
     "execution_count": 41,
     "metadata": {},
     "output_type": "execute_result"
    }
   ],
   "source": [
    "# Checking dataframe shape\n",
    "df.shape"
   ]
  },
  {
   "cell_type": "code",
   "execution_count": 42,
   "id": "decd6db6",
   "metadata": {},
   "outputs": [
    {
     "data": {
      "text/plain": [
       "Index(['Unnamed: 0', 'airline', 'flight', 'source_city', 'departure_time',\n",
       "       'stops', 'arrival_time', 'destination_city', 'class', 'duration',\n",
       "       'days_left', 'price', 'date'],\n",
       "      dtype='object')"
      ]
     },
     "execution_count": 42,
     "metadata": {},
     "output_type": "execute_result"
    }
   ],
   "source": [
    "# All columns\n",
    "columns = df.columns\n",
    "columns"
   ]
  },
  {
   "cell_type": "code",
   "execution_count": 43,
   "id": "85580c2a",
   "metadata": {},
   "outputs": [
    {
     "data": {
      "text/plain": [
       "Index(['Unnamed: 0', 'duration', 'days_left'], dtype='object')"
      ]
     },
     "execution_count": 43,
     "metadata": {},
     "output_type": "execute_result"
    }
   ],
   "source": [
    "# Numeric columns\n",
    "numeric_columns = df.select_dtypes(include = 'number').columns\n",
    "numeric_columns"
   ]
  },
  {
   "cell_type": "code",
   "execution_count": 44,
   "id": "dab78277",
   "metadata": {},
   "outputs": [
    {
     "data": {
      "text/plain": [
       "Index(['airline', 'flight', 'source_city', 'departure_time', 'stops',\n",
       "       'arrival_time', 'destination_city', 'class', 'price', 'date'],\n",
       "      dtype='object')"
      ]
     },
     "execution_count": 44,
     "metadata": {},
     "output_type": "execute_result"
    }
   ],
   "source": [
    "# Non-Numeric columns\n",
    "numeric_columns = df.select_dtypes(include = 'object').columns\n",
    "numeric_columns"
   ]
  },
  {
   "cell_type": "markdown",
   "id": "87e594db",
   "metadata": {},
   "source": [
    "### Duplicate Entries"
   ]
  },
  {
   "cell_type": "code",
   "execution_count": 45,
   "id": "e7070456",
   "metadata": {},
   "outputs": [
    {
     "name": "stdout",
     "output_type": "stream",
     "text": [
      "Count of duplicate entries:  0\n"
     ]
    },
    {
     "data": {
      "text/html": [
       "<div>\n",
       "<style scoped>\n",
       "    .dataframe tbody tr th:only-of-type {\n",
       "        vertical-align: middle;\n",
       "    }\n",
       "\n",
       "    .dataframe tbody tr th {\n",
       "        vertical-align: top;\n",
       "    }\n",
       "\n",
       "    .dataframe thead th {\n",
       "        text-align: right;\n",
       "    }\n",
       "</style>\n",
       "<table border=\"1\" class=\"dataframe\">\n",
       "  <thead>\n",
       "    <tr style=\"text-align: right;\">\n",
       "      <th></th>\n",
       "      <th>Unnamed: 0</th>\n",
       "      <th>airline</th>\n",
       "      <th>flight</th>\n",
       "      <th>source_city</th>\n",
       "      <th>departure_time</th>\n",
       "      <th>stops</th>\n",
       "      <th>arrival_time</th>\n",
       "      <th>destination_city</th>\n",
       "      <th>class</th>\n",
       "      <th>duration</th>\n",
       "      <th>days_left</th>\n",
       "      <th>price</th>\n",
       "      <th>date</th>\n",
       "    </tr>\n",
       "  </thead>\n",
       "  <tbody>\n",
       "  </tbody>\n",
       "</table>\n",
       "</div>"
      ],
      "text/plain": [
       "Empty DataFrame\n",
       "Columns: [Unnamed: 0, airline, flight, source_city, departure_time, stops, arrival_time, destination_city, class, duration, days_left, price, date]\n",
       "Index: []"
      ]
     },
     "execution_count": 45,
     "metadata": {},
     "output_type": "execute_result"
    }
   ],
   "source": [
    "# Checking for duplicate values\n",
    "df_duplicate = df[df.duplicated()]\n",
    "print('Count of duplicate entries: ', df_duplicate.shape[0])\n",
    "df_duplicate"
   ]
  },
  {
   "cell_type": "code",
   "execution_count": 46,
   "id": "f47f0d8c",
   "metadata": {},
   "outputs": [
    {
     "data": {
      "text/html": [
       "<div>\n",
       "<style scoped>\n",
       "    .dataframe tbody tr th:only-of-type {\n",
       "        vertical-align: middle;\n",
       "    }\n",
       "\n",
       "    .dataframe tbody tr th {\n",
       "        vertical-align: top;\n",
       "    }\n",
       "\n",
       "    .dataframe thead th {\n",
       "        text-align: right;\n",
       "    }\n",
       "</style>\n",
       "<table border=\"1\" class=\"dataframe\">\n",
       "  <thead>\n",
       "    <tr style=\"text-align: right;\">\n",
       "      <th></th>\n",
       "      <th>Null_Count</th>\n",
       "      <th>Null_Percentage</th>\n",
       "    </tr>\n",
       "  </thead>\n",
       "  <tbody>\n",
       "    <tr>\n",
       "      <th>Unnamed: 0</th>\n",
       "      <td>0</td>\n",
       "      <td>0.000000</td>\n",
       "    </tr>\n",
       "    <tr>\n",
       "      <th>airline</th>\n",
       "      <td>452</td>\n",
       "      <td>0.150063</td>\n",
       "    </tr>\n",
       "    <tr>\n",
       "      <th>flight</th>\n",
       "      <td>0</td>\n",
       "      <td>0.000000</td>\n",
       "    </tr>\n",
       "    <tr>\n",
       "      <th>source_city</th>\n",
       "      <td>0</td>\n",
       "      <td>0.000000</td>\n",
       "    </tr>\n",
       "    <tr>\n",
       "      <th>departure_time</th>\n",
       "      <td>0</td>\n",
       "      <td>0.000000</td>\n",
       "    </tr>\n",
       "    <tr>\n",
       "      <th>stops</th>\n",
       "      <td>0</td>\n",
       "      <td>0.000000</td>\n",
       "    </tr>\n",
       "    <tr>\n",
       "      <th>arrival_time</th>\n",
       "      <td>0</td>\n",
       "      <td>0.000000</td>\n",
       "    </tr>\n",
       "    <tr>\n",
       "      <th>destination_city</th>\n",
       "      <td>0</td>\n",
       "      <td>0.000000</td>\n",
       "    </tr>\n",
       "    <tr>\n",
       "      <th>class</th>\n",
       "      <td>200</td>\n",
       "      <td>0.066400</td>\n",
       "    </tr>\n",
       "    <tr>\n",
       "      <th>duration</th>\n",
       "      <td>250</td>\n",
       "      <td>0.083000</td>\n",
       "    </tr>\n",
       "    <tr>\n",
       "      <th>days_left</th>\n",
       "      <td>0</td>\n",
       "      <td>0.000000</td>\n",
       "    </tr>\n",
       "    <tr>\n",
       "      <th>price</th>\n",
       "      <td>100</td>\n",
       "      <td>0.033200</td>\n",
       "    </tr>\n",
       "    <tr>\n",
       "      <th>date</th>\n",
       "      <td>300848</td>\n",
       "      <td>99.881144</td>\n",
       "    </tr>\n",
       "  </tbody>\n",
       "</table>\n",
       "</div>"
      ],
      "text/plain": [
       "                  Null_Count  Null_Percentage\n",
       "Unnamed: 0                 0         0.000000\n",
       "airline                  452         0.150063\n",
       "flight                     0         0.000000\n",
       "source_city                0         0.000000\n",
       "departure_time             0         0.000000\n",
       "stops                      0         0.000000\n",
       "arrival_time               0         0.000000\n",
       "destination_city           0         0.000000\n",
       "class                    200         0.066400\n",
       "duration                 250         0.083000\n",
       "days_left                  0         0.000000\n",
       "price                    100         0.033200\n",
       "date                  300848        99.881144"
      ]
     },
     "execution_count": 46,
     "metadata": {},
     "output_type": "execute_result"
    }
   ],
   "source": [
    "# Checking null values\n",
    "null_values = df.isnull().sum()\n",
    "null_values_percentage = (null_values/df.shape[0])*100\n",
    "\n",
    "# Creating a dataframe with null value count & null value percentage\n",
    "df_null = pd.DataFrame({'Null_Count': null_values, 'Null_Percentage': null_values_percentage})\n",
    "df_null"
   ]
  },
  {
   "cell_type": "code",
   "execution_count": 47,
   "id": "02fa2e40",
   "metadata": {},
   "outputs": [
    {
     "data": {
      "text/plain": [
       "True     301104\n",
       "False         2\n",
       "Name: price, dtype: int64"
      ]
     },
     "execution_count": 47,
     "metadata": {},
     "output_type": "execute_result"
    }
   ],
   "source": [
    "# Checking non-numeric entries in 'price column'\n",
    "df['price'].str.isnumeric().value_counts()"
   ]
  },
  {
   "cell_type": "markdown",
   "id": "234c73e3",
   "metadata": {},
   "source": [
    "#### Columns to be hadled:\n",
    "1. **Unnamed: 0** \n",
    "    - It has no use, should be dropped\n",
    "2. **date** \n",
    "     - column has more than 99% null values, should be dropped\n",
    "3. **Airline, class** \n",
    "    - It has less than 0.1% null values, corresponding rows can be dropped\n",
    "4. **price** \n",
    "    - Data type should be changed from object to numeric\n",
    "    - null values can be dropped\n",
    "5. **duration**\n",
    "    - It is given as hr:mints, should be converted into minutes\n",
    "    - Null values can be dropped\n"
   ]
  },
  {
   "cell_type": "markdown",
   "id": "14518948",
   "metadata": {},
   "source": [
    "#### 'Unnamed: 0' & 'date'"
   ]
  },
  {
   "cell_type": "code",
   "execution_count": 48,
   "id": "b6d6b334",
   "metadata": {},
   "outputs": [
    {
     "data": {
      "text/html": [
       "<div>\n",
       "<style scoped>\n",
       "    .dataframe tbody tr th:only-of-type {\n",
       "        vertical-align: middle;\n",
       "    }\n",
       "\n",
       "    .dataframe tbody tr th {\n",
       "        vertical-align: top;\n",
       "    }\n",
       "\n",
       "    .dataframe thead th {\n",
       "        text-align: right;\n",
       "    }\n",
       "</style>\n",
       "<table border=\"1\" class=\"dataframe\">\n",
       "  <thead>\n",
       "    <tr style=\"text-align: right;\">\n",
       "      <th></th>\n",
       "      <th>airline</th>\n",
       "      <th>flight</th>\n",
       "      <th>source_city</th>\n",
       "      <th>departure_time</th>\n",
       "      <th>stops</th>\n",
       "      <th>arrival_time</th>\n",
       "      <th>destination_city</th>\n",
       "      <th>class</th>\n",
       "      <th>duration</th>\n",
       "      <th>days_left</th>\n",
       "      <th>price</th>\n",
       "    </tr>\n",
       "  </thead>\n",
       "  <tbody>\n",
       "    <tr>\n",
       "      <th>0</th>\n",
       "      <td>SpiceJet</td>\n",
       "      <td>SG-8709</td>\n",
       "      <td>Delhi</td>\n",
       "      <td>Evening</td>\n",
       "      <td>zero</td>\n",
       "      <td>Night</td>\n",
       "      <td>Mumbai</td>\n",
       "      <td>Economy</td>\n",
       "      <td>2.17</td>\n",
       "      <td>1</td>\n",
       "      <td>5953</td>\n",
       "    </tr>\n",
       "    <tr>\n",
       "      <th>1</th>\n",
       "      <td>SpiceJet</td>\n",
       "      <td>SG-8157</td>\n",
       "      <td>Delhi</td>\n",
       "      <td>Early_Morning</td>\n",
       "      <td>zero</td>\n",
       "      <td>Morning</td>\n",
       "      <td>Mumbai</td>\n",
       "      <td>Economy</td>\n",
       "      <td>2.33</td>\n",
       "      <td>1</td>\n",
       "      <td>5953</td>\n",
       "    </tr>\n",
       "  </tbody>\n",
       "</table>\n",
       "</div>"
      ],
      "text/plain": [
       "    airline   flight source_city departure_time stops arrival_time  \\\n",
       "0  SpiceJet  SG-8709       Delhi        Evening  zero        Night   \n",
       "1  SpiceJet  SG-8157       Delhi  Early_Morning  zero      Morning   \n",
       "\n",
       "  destination_city    class  duration  days_left price  \n",
       "0           Mumbai  Economy      2.17          1  5953  \n",
       "1           Mumbai  Economy      2.33          1  5953  "
      ]
     },
     "execution_count": 48,
     "metadata": {},
     "output_type": "execute_result"
    }
   ],
   "source": [
    "# Dropping 'Unnamed: 0' & 'date'\n",
    "df.drop(columns = ['Unnamed: 0','date'], axis = 1, inplace = True)\n",
    "df.head(2)"
   ]
  },
  {
   "cell_type": "markdown",
   "id": "48b30dba",
   "metadata": {},
   "source": [
    "#### price"
   ]
  },
  {
   "cell_type": "code",
   "execution_count": 49,
   "id": "e92a98aa",
   "metadata": {},
   "outputs": [
    {
     "name": "stdout",
     "output_type": "stream",
     "text": [
      "<class 'pandas.core.frame.DataFrame'>\n",
      "RangeIndex: 301206 entries, 0 to 301205\n",
      "Data columns (total 11 columns):\n",
      " #   Column            Non-Null Count   Dtype  \n",
      "---  ------            --------------   -----  \n",
      " 0   airline           300754 non-null  object \n",
      " 1   flight            301206 non-null  object \n",
      " 2   source_city       301206 non-null  object \n",
      " 3   departure_time    301206 non-null  object \n",
      " 4   stops             301206 non-null  object \n",
      " 5   arrival_time      301206 non-null  object \n",
      " 6   destination_city  301206 non-null  object \n",
      " 7   class             301006 non-null  object \n",
      " 8   duration          300956 non-null  float64\n",
      " 9   days_left         301206 non-null  int64  \n",
      " 10  price             301104 non-null  float64\n",
      "dtypes: float64(2), int64(1), object(8)\n",
      "memory usage: 25.3+ MB\n"
     ]
    }
   ],
   "source": [
    "df['price'] = pd.to_numeric(df['price'], errors = 'coerce')\n",
    "df.info()"
   ]
  },
  {
   "cell_type": "markdown",
   "id": "a1b8d4f4",
   "metadata": {},
   "source": [
    "#### Dropping null values from: 'price', duration, class, airline"
   ]
  },
  {
   "cell_type": "code",
   "execution_count": 50,
   "id": "fd07f376",
   "metadata": {},
   "outputs": [
    {
     "data": {
      "text/plain": [
       "airline             0\n",
       "flight              0\n",
       "source_city         0\n",
       "departure_time      0\n",
       "stops               0\n",
       "arrival_time        0\n",
       "destination_city    0\n",
       "class               0\n",
       "duration            0\n",
       "days_left           0\n",
       "price               0\n",
       "dtype: int64"
      ]
     },
     "execution_count": 50,
     "metadata": {},
     "output_type": "execute_result"
    }
   ],
   "source": [
    "df.dropna(inplace = True)\n",
    "df.isnull().sum()"
   ]
  },
  {
   "cell_type": "markdown",
   "id": "b1ec6f77",
   "metadata": {},
   "source": [
    "#### duration"
   ]
  },
  {
   "cell_type": "code",
   "execution_count": 51,
   "id": "a9668ec8",
   "metadata": {},
   "outputs": [],
   "source": [
    "# creating a function to convert duration in minutes\n",
    "def dution_to_minute(t):\n",
    "    i = t//1\n",
    "    f = round(t%1, 2)*100\n",
    "    time = i*60 + f\n",
    "    return time"
   ]
  },
  {
   "cell_type": "code",
   "execution_count": 52,
   "id": "6a9acc62",
   "metadata": {},
   "outputs": [
    {
     "data": {
      "text/html": [
       "<div>\n",
       "<style scoped>\n",
       "    .dataframe tbody tr th:only-of-type {\n",
       "        vertical-align: middle;\n",
       "    }\n",
       "\n",
       "    .dataframe tbody tr th {\n",
       "        vertical-align: top;\n",
       "    }\n",
       "\n",
       "    .dataframe thead th {\n",
       "        text-align: right;\n",
       "    }\n",
       "</style>\n",
       "<table border=\"1\" class=\"dataframe\">\n",
       "  <thead>\n",
       "    <tr style=\"text-align: right;\">\n",
       "      <th></th>\n",
       "      <th>airline</th>\n",
       "      <th>flight</th>\n",
       "      <th>source_city</th>\n",
       "      <th>departure_time</th>\n",
       "      <th>stops</th>\n",
       "      <th>arrival_time</th>\n",
       "      <th>destination_city</th>\n",
       "      <th>class</th>\n",
       "      <th>duration</th>\n",
       "      <th>days_left</th>\n",
       "      <th>price</th>\n",
       "      <th>duration_minutes</th>\n",
       "    </tr>\n",
       "  </thead>\n",
       "  <tbody>\n",
       "    <tr>\n",
       "      <th>0</th>\n",
       "      <td>SpiceJet</td>\n",
       "      <td>SG-8709</td>\n",
       "      <td>Delhi</td>\n",
       "      <td>Evening</td>\n",
       "      <td>zero</td>\n",
       "      <td>Night</td>\n",
       "      <td>Mumbai</td>\n",
       "      <td>Economy</td>\n",
       "      <td>2.17</td>\n",
       "      <td>1</td>\n",
       "      <td>5953.0</td>\n",
       "      <td>137.0</td>\n",
       "    </tr>\n",
       "    <tr>\n",
       "      <th>1</th>\n",
       "      <td>SpiceJet</td>\n",
       "      <td>SG-8157</td>\n",
       "      <td>Delhi</td>\n",
       "      <td>Early_Morning</td>\n",
       "      <td>zero</td>\n",
       "      <td>Morning</td>\n",
       "      <td>Mumbai</td>\n",
       "      <td>Economy</td>\n",
       "      <td>2.33</td>\n",
       "      <td>1</td>\n",
       "      <td>5953.0</td>\n",
       "      <td>153.0</td>\n",
       "    </tr>\n",
       "  </tbody>\n",
       "</table>\n",
       "</div>"
      ],
      "text/plain": [
       "    airline   flight source_city departure_time stops arrival_time  \\\n",
       "0  SpiceJet  SG-8709       Delhi        Evening  zero        Night   \n",
       "1  SpiceJet  SG-8157       Delhi  Early_Morning  zero      Morning   \n",
       "\n",
       "  destination_city    class  duration  days_left   price  duration_minutes  \n",
       "0           Mumbai  Economy      2.17          1  5953.0             137.0  \n",
       "1           Mumbai  Economy      2.33          1  5953.0             153.0  "
      ]
     },
     "execution_count": 52,
     "metadata": {},
     "output_type": "execute_result"
    }
   ],
   "source": [
    "# Creating a new column with duration in minutes\n",
    "df['duration_minutes'] = df['duration'].apply(dution_to_minute)\n",
    "df.head(2)"
   ]
  },
  {
   "cell_type": "markdown",
   "id": "8a93be04",
   "metadata": {},
   "source": [
    "#### Dropping duration column"
   ]
  },
  {
   "cell_type": "code",
   "execution_count": 53,
   "id": "a250799b",
   "metadata": {},
   "outputs": [
    {
     "data": {
      "text/html": [
       "<div>\n",
       "<style scoped>\n",
       "    .dataframe tbody tr th:only-of-type {\n",
       "        vertical-align: middle;\n",
       "    }\n",
       "\n",
       "    .dataframe tbody tr th {\n",
       "        vertical-align: top;\n",
       "    }\n",
       "\n",
       "    .dataframe thead th {\n",
       "        text-align: right;\n",
       "    }\n",
       "</style>\n",
       "<table border=\"1\" class=\"dataframe\">\n",
       "  <thead>\n",
       "    <tr style=\"text-align: right;\">\n",
       "      <th></th>\n",
       "      <th>airline</th>\n",
       "      <th>flight</th>\n",
       "      <th>source_city</th>\n",
       "      <th>departure_time</th>\n",
       "      <th>stops</th>\n",
       "      <th>arrival_time</th>\n",
       "      <th>destination_city</th>\n",
       "      <th>class</th>\n",
       "      <th>days_left</th>\n",
       "      <th>price</th>\n",
       "      <th>duration_minutes</th>\n",
       "    </tr>\n",
       "  </thead>\n",
       "  <tbody>\n",
       "    <tr>\n",
       "      <th>0</th>\n",
       "      <td>SpiceJet</td>\n",
       "      <td>SG-8709</td>\n",
       "      <td>Delhi</td>\n",
       "      <td>Evening</td>\n",
       "      <td>zero</td>\n",
       "      <td>Night</td>\n",
       "      <td>Mumbai</td>\n",
       "      <td>Economy</td>\n",
       "      <td>1</td>\n",
       "      <td>5953.0</td>\n",
       "      <td>137.0</td>\n",
       "    </tr>\n",
       "    <tr>\n",
       "      <th>1</th>\n",
       "      <td>SpiceJet</td>\n",
       "      <td>SG-8157</td>\n",
       "      <td>Delhi</td>\n",
       "      <td>Early_Morning</td>\n",
       "      <td>zero</td>\n",
       "      <td>Morning</td>\n",
       "      <td>Mumbai</td>\n",
       "      <td>Economy</td>\n",
       "      <td>1</td>\n",
       "      <td>5953.0</td>\n",
       "      <td>153.0</td>\n",
       "    </tr>\n",
       "  </tbody>\n",
       "</table>\n",
       "</div>"
      ],
      "text/plain": [
       "    airline   flight source_city departure_time stops arrival_time  \\\n",
       "0  SpiceJet  SG-8709       Delhi        Evening  zero        Night   \n",
       "1  SpiceJet  SG-8157       Delhi  Early_Morning  zero      Morning   \n",
       "\n",
       "  destination_city    class  days_left   price  duration_minutes  \n",
       "0           Mumbai  Economy          1  5953.0             137.0  \n",
       "1           Mumbai  Economy          1  5953.0             153.0  "
      ]
     },
     "execution_count": 53,
     "metadata": {},
     "output_type": "execute_result"
    }
   ],
   "source": [
    "df.drop(columns = ['duration'], axis = 1, inplace = True)\n",
    "df.head(2)"
   ]
  },
  {
   "cell_type": "markdown",
   "id": "14d7c0f5",
   "metadata": {},
   "source": [
    " "
   ]
  },
  {
   "cell_type": "code",
   "execution_count": 54,
   "id": "6799c78e",
   "metadata": {},
   "outputs": [
    {
     "data": {
      "text/plain": [
       "(300204, 11)"
      ]
     },
     "execution_count": 54,
     "metadata": {},
     "output_type": "execute_result"
    }
   ],
   "source": [
    "df.shape"
   ]
  },
  {
   "cell_type": "markdown",
   "id": "92f2ef3b",
   "metadata": {},
   "source": [
    "### Outliers"
   ]
  },
  {
   "cell_type": "code",
   "execution_count": 55,
   "id": "ce96eb66",
   "metadata": {},
   "outputs": [
    {
     "data": {
      "text/html": [
       "<div>\n",
       "<style scoped>\n",
       "    .dataframe tbody tr th:only-of-type {\n",
       "        vertical-align: middle;\n",
       "    }\n",
       "\n",
       "    .dataframe tbody tr th {\n",
       "        vertical-align: top;\n",
       "    }\n",
       "\n",
       "    .dataframe thead th {\n",
       "        text-align: right;\n",
       "    }\n",
       "</style>\n",
       "<table border=\"1\" class=\"dataframe\">\n",
       "  <thead>\n",
       "    <tr style=\"text-align: right;\">\n",
       "      <th></th>\n",
       "      <th>days_left</th>\n",
       "      <th>price</th>\n",
       "      <th>duration_minutes</th>\n",
       "    </tr>\n",
       "  </thead>\n",
       "  <tbody>\n",
       "    <tr>\n",
       "      <th>count</th>\n",
       "      <td>300204.000000</td>\n",
       "      <td>3.002040e+05</td>\n",
       "      <td>300204.000000</td>\n",
       "    </tr>\n",
       "    <tr>\n",
       "      <th>mean</th>\n",
       "      <td>26.000503</td>\n",
       "      <td>2.101474e+04</td>\n",
       "      <td>751.282058</td>\n",
       "    </tr>\n",
       "    <tr>\n",
       "      <th>std</th>\n",
       "      <td>13.563767</td>\n",
       "      <td>2.541873e+04</td>\n",
       "      <td>437.990613</td>\n",
       "    </tr>\n",
       "    <tr>\n",
       "      <th>min</th>\n",
       "      <td>1.000000</td>\n",
       "      <td>1.105000e+03</td>\n",
       "      <td>60.000000</td>\n",
       "    </tr>\n",
       "    <tr>\n",
       "      <th>25%</th>\n",
       "      <td>15.000000</td>\n",
       "      <td>4.783000e+03</td>\n",
       "      <td>427.750000</td>\n",
       "    </tr>\n",
       "    <tr>\n",
       "      <th>50%</th>\n",
       "      <td>26.000000</td>\n",
       "      <td>7.425000e+03</td>\n",
       "      <td>692.000000</td>\n",
       "    </tr>\n",
       "    <tr>\n",
       "      <th>75%</th>\n",
       "      <td>38.000000</td>\n",
       "      <td>4.252100e+04</td>\n",
       "      <td>985.000000</td>\n",
       "    </tr>\n",
       "    <tr>\n",
       "      <th>max</th>\n",
       "      <td>49.000000</td>\n",
       "      <td>2.512780e+06</td>\n",
       "      <td>37345.000000</td>\n",
       "    </tr>\n",
       "  </tbody>\n",
       "</table>\n",
       "</div>"
      ],
      "text/plain": [
       "           days_left         price  duration_minutes\n",
       "count  300204.000000  3.002040e+05     300204.000000\n",
       "mean       26.000503  2.101474e+04        751.282058\n",
       "std        13.563767  2.541873e+04        437.990613\n",
       "min         1.000000  1.105000e+03         60.000000\n",
       "25%        15.000000  4.783000e+03        427.750000\n",
       "50%        26.000000  7.425000e+03        692.000000\n",
       "75%        38.000000  4.252100e+04        985.000000\n",
       "max        49.000000  2.512780e+06      37345.000000"
      ]
     },
     "execution_count": 55,
     "metadata": {},
     "output_type": "execute_result"
    }
   ],
   "source": [
    "df.describe()"
   ]
  },
  {
   "cell_type": "code",
   "execution_count": 56,
   "id": "b8052246",
   "metadata": {},
   "outputs": [
    {
     "data": {
      "image/png": "[encoded data removed]",
      "text/plain": [
       "<Figure size 1080x576 with 3 Axes>"
      ]
     },
     "metadata": {
      "needs_background": "light"
     },
     "output_type": "display_data"
    }
   ],
   "source": [
    "# visualizing outliers\n",
    "fig, ax = plt.subplots(1,3, figsize = (15,8))\n",
    "\n",
    "sns.boxplot(y = 'days_left', data = df, ax = ax[0])\n",
    "ax[0].set_title('days_left outlier')\n",
    "\n",
    "sns.boxplot(y = 'price', data = df, ax = ax[1])\n",
    "ax[1].set_title('price outlier')\n",
    "\n",
    "sns.boxplot(y = 'duration_minutes', data = df, ax = ax[2])\n",
    "ax[2].set_title('duration_minutes outlier')\n",
    "\n",
    "plt.show()"
   ]
  },
  {
   "cell_type": "markdown",
   "id": "3f490b1f",
   "metadata": {},
   "source": [
    "#### price column outlier removal"
   ]
  },
  {
   "cell_type": "code",
   "execution_count": 57,
   "id": "f0908af7",
   "metadata": {},
   "outputs": [
    {
     "name": "stdout",
     "output_type": "stream",
     "text": [
      "Q1 is:  4783.0\n",
      "Q3 is: 42521.0\n",
      "Inter Quartile Range is:  37738.0\n",
      "Lower limit is:  -51824.0\n",
      "Upper limit is:  99128.0\n"
     ]
    }
   ],
   "source": [
    "# quartile & limits\n",
    "Q1_price = np.quantile(df['price'], 0.25)\n",
    "Q3_price = np.quantile(df['price'], 0.75)\n",
    "IQR_price = Q3_price - Q1_price\n",
    "\n",
    "print('Q1 is: ', Q1_price)\n",
    "print('Q3 is:' , Q3_price)\n",
    "print('Inter Quartile Range is: ', IQR_price)\n",
    "\n",
    "lower_limit_price = Q1_price - IQR_price*1.5\n",
    "upper_limit_price = Q3_price + IQR_price*1.5\n",
    "\n",
    "print('Lower limit is: ', lower_limit_price)\n",
    "print('Upper limit is: ', upper_limit_price)"
   ]
  },
  {
   "cell_type": "code",
   "execution_count": 58,
   "id": "604c5543",
   "metadata": {},
   "outputs": [
    {
     "data": {
      "text/plain": [
       "(300041, 11)"
      ]
     },
     "execution_count": 58,
     "metadata": {},
     "output_type": "execute_result"
    }
   ],
   "source": [
    "# Removing outliers\n",
    "df = df[(df['price']>lower_limit_price) & (df['price']<upper_limit_price)]\n",
    "df.shape"
   ]
  },
  {
   "cell_type": "markdown",
   "id": "9ccce307",
   "metadata": {},
   "source": [
    "#### duration_minutes outliers removal"
   ]
  },
  {
   "cell_type": "code",
   "execution_count": 59,
   "id": "3c7f680d",
   "metadata": {},
   "outputs": [
    {
     "name": "stdout",
     "output_type": "stream",
     "text": [
      "Q1 is:  427.0\n",
      "Q3 is: 985.0\n",
      "Inter Quartile Range is:  558.0\n",
      "Lower limit is:  -410.0\n",
      "Upper limit is:  1822.0\n"
     ]
    }
   ],
   "source": [
    "# quartile & limits\n",
    "Q1_duration_minutes = np.quantile(df['duration_minutes'], 0.25)\n",
    "Q3_duration_minutes = np.quantile(df['duration_minutes'], 0.75)\n",
    "IQR_duration_minutes = Q3_duration_minutes - Q1_duration_minutes\n",
    "\n",
    "print('Q1 is: ', Q1_duration_minutes)\n",
    "print('Q3 is:' , Q3_duration_minutes)\n",
    "print('Inter Quartile Range is: ', IQR_duration_minutes)\n",
    "\n",
    "lower_limit_duration_minutes = Q1_duration_minutes - IQR_duration_minutes*1.5\n",
    "upper_limit_duration_minutes = Q3_duration_minutes + IQR_duration_minutes*1.5\n",
    "\n",
    "print('Lower limit is: ', lower_limit_duration_minutes)\n",
    "print('Upper limit is: ', upper_limit_duration_minutes)"
   ]
  },
  {
   "cell_type": "code",
   "execution_count": 60,
   "id": "be4ddf6a",
   "metadata": {},
   "outputs": [
    {
     "data": {
      "text/plain": [
       "(297808, 11)"
      ]
     },
     "execution_count": 60,
     "metadata": {},
     "output_type": "execute_result"
    }
   ],
   "source": [
    "# Removing outliers\n",
    "df = df[(df['duration_minutes']>lower_limit_duration_minutes) & \n",
    "        (df['duration_minutes']<upper_limit_duration_minutes)]\n",
    "df.shape"
   ]
  },
  {
   "cell_type": "code",
   "execution_count": 61,
   "id": "15bb3177",
   "metadata": {},
   "outputs": [
    {
     "data": {
      "text/html": [
       "<div>\n",
       "<style scoped>\n",
       "    .dataframe tbody tr th:only-of-type {\n",
       "        vertical-align: middle;\n",
       "    }\n",
       "\n",
       "    .dataframe tbody tr th {\n",
       "        vertical-align: top;\n",
       "    }\n",
       "\n",
       "    .dataframe thead th {\n",
       "        text-align: right;\n",
       "    }\n",
       "</style>\n",
       "<table border=\"1\" class=\"dataframe\">\n",
       "  <thead>\n",
       "    <tr style=\"text-align: right;\">\n",
       "      <th></th>\n",
       "      <th>days_left</th>\n",
       "      <th>price</th>\n",
       "      <th>duration_minutes</th>\n",
       "    </tr>\n",
       "  </thead>\n",
       "  <tbody>\n",
       "    <tr>\n",
       "      <th>count</th>\n",
       "      <td>297808.000000</td>\n",
       "      <td>297808.000000</td>\n",
       "      <td>297808.000000</td>\n",
       "    </tr>\n",
       "    <tr>\n",
       "      <th>mean</th>\n",
       "      <td>26.039737</td>\n",
       "      <td>20882.163276</td>\n",
       "      <td>741.590716</td>\n",
       "    </tr>\n",
       "    <tr>\n",
       "      <th>std</th>\n",
       "      <td>13.549020</td>\n",
       "      <td>22672.480332</td>\n",
       "      <td>419.345082</td>\n",
       "    </tr>\n",
       "    <tr>\n",
       "      <th>min</th>\n",
       "      <td>1.000000</td>\n",
       "      <td>1105.000000</td>\n",
       "      <td>60.000000</td>\n",
       "    </tr>\n",
       "    <tr>\n",
       "      <th>25%</th>\n",
       "      <td>15.000000</td>\n",
       "      <td>4757.000000</td>\n",
       "      <td>427.000000</td>\n",
       "    </tr>\n",
       "    <tr>\n",
       "      <th>50%</th>\n",
       "      <td>26.000000</td>\n",
       "      <td>7424.000000</td>\n",
       "      <td>685.000000</td>\n",
       "    </tr>\n",
       "    <tr>\n",
       "      <th>75%</th>\n",
       "      <td>38.000000</td>\n",
       "      <td>42521.000000</td>\n",
       "      <td>977.000000</td>\n",
       "    </tr>\n",
       "    <tr>\n",
       "      <th>max</th>\n",
       "      <td>49.000000</td>\n",
       "      <td>98972.000000</td>\n",
       "      <td>1817.000000</td>\n",
       "    </tr>\n",
       "  </tbody>\n",
       "</table>\n",
       "</div>"
      ],
      "text/plain": [
       "           days_left          price  duration_minutes\n",
       "count  297808.000000  297808.000000     297808.000000\n",
       "mean       26.039737   20882.163276        741.590716\n",
       "std        13.549020   22672.480332        419.345082\n",
       "min         1.000000    1105.000000         60.000000\n",
       "25%        15.000000    4757.000000        427.000000\n",
       "50%        26.000000    7424.000000        685.000000\n",
       "75%        38.000000   42521.000000        977.000000\n",
       "max        49.000000   98972.000000       1817.000000"
      ]
     },
     "execution_count": 61,
     "metadata": {},
     "output_type": "execute_result"
    }
   ],
   "source": [
    "df.describe()"
   ]
  },
  {
   "cell_type": "markdown",
   "id": "6bdaee08",
   "metadata": {},
   "source": [
    " "
   ]
  },
  {
   "cell_type": "markdown",
   "id": "84b8ddb5",
   "metadata": {},
   "source": [
    "#### Creating routes feature"
   ]
  },
  {
   "cell_type": "code",
   "execution_count": 62,
   "id": "a6c4bf6f",
   "metadata": {},
   "outputs": [
    {
     "data": {
      "text/plain": [
       "Delhi-Mumbai           15289\n",
       "Mumbai-Delhi           14808\n",
       "Delhi-Bangalore        13997\n",
       "Bangalore-Delhi        13735\n",
       "Bangalore-Mumbai       12888\n",
       "Mumbai-Bangalore       12770\n",
       "Mumbai-Kolkata         12572\n",
       "Delhi-Kolkata          11879\n",
       "Kolkata-Mumbai         11235\n",
       "Delhi-Chennai          10669\n",
       "Kolkata-Delhi          10475\n",
       "Mumbai-Hyderabad       10412\n",
       "Mumbai-Chennai         10096\n",
       "Hyderabad-Mumbai       10017\n",
       "Bangalore-Kolkata       9975\n",
       "Kolkata-Bangalore       9733\n",
       "Chennai-Delhi           9618\n",
       "Delhi-Hyderabad         9311\n",
       "Chennai-Mumbai          9215\n",
       "Bangalore-Hyderabad     8689\n",
       "Hyderabad-Delhi         8505\n",
       "Hyderabad-Kolkata       7878\n",
       "Hyderabad-Bangalore     7849\n",
       "Kolkata-Hyderabad       7814\n",
       "Chennai-Kolkata         6786\n",
       "Kolkata-Chennai         6556\n",
       "Hyderabad-Chennai       6387\n",
       "Chennai-Bangalore       6314\n",
       "Bangalore-Chennai       6261\n",
       "Chennai-Hyderabad       6075\n",
       "Name: routes, dtype: int64"
      ]
     },
     "execution_count": 62,
     "metadata": {},
     "output_type": "execute_result"
    }
   ],
   "source": [
    "# Route: source - destination\n",
    "df['routes'] = df['source_city'] + '-' + df['destination_city']\n",
    "df['routes'].value_counts()"
   ]
  },
  {
   "cell_type": "markdown",
   "id": "f50ea32d",
   "metadata": {},
   "source": [
    "#### Creating duration_slab feature"
   ]
  },
  {
   "cell_type": "code",
   "execution_count": 63,
   "id": "959762df",
   "metadata": {},
   "outputs": [
    {
     "data": {
      "text/plain": [
       "5 to 12 hrs         116648\n",
       "12 to 24 hrs        110767\n",
       "2 to 5 hrs           35956\n",
       "more than 24 hrs     28135\n",
       "up to 2 hrs           6302\n",
       "Name: duration_slab, dtype: int64"
      ]
     },
     "execution_count": 63,
     "metadata": {},
     "output_type": "execute_result"
    }
   ],
   "source": [
    "df['duration_slab'] = ['up to 2 hrs'  if val <= 120 \n",
    "                       else '2 to 5 hrs' if 120 < val <= 300\n",
    "                       else '5 to 12 hrs' if 300 < val <= 720\n",
    "                       else '12 to 24 hrs' if 720 < val < 1440\n",
    "                       else 'more than 24 hrs'\n",
    "                       for val in df['duration_minutes']]\n",
    "df['duration_slab'].value_counts()"
   ]
  },
  {
   "cell_type": "code",
   "execution_count": 64,
   "id": "8ee9d01e",
   "metadata": {},
   "outputs": [
    {
     "data": {
      "text/html": [
       "<div>\n",
       "<style scoped>\n",
       "    .dataframe tbody tr th:only-of-type {\n",
       "        vertical-align: middle;\n",
       "    }\n",
       "\n",
       "    .dataframe tbody tr th {\n",
       "        vertical-align: top;\n",
       "    }\n",
       "\n",
       "    .dataframe thead th {\n",
       "        text-align: right;\n",
       "    }\n",
       "</style>\n",
       "<table border=\"1\" class=\"dataframe\">\n",
       "  <thead>\n",
       "    <tr style=\"text-align: right;\">\n",
       "      <th></th>\n",
       "      <th>airline</th>\n",
       "      <th>flight</th>\n",
       "      <th>source_city</th>\n",
       "      <th>departure_time</th>\n",
       "      <th>stops</th>\n",
       "      <th>arrival_time</th>\n",
       "      <th>destination_city</th>\n",
       "      <th>class</th>\n",
       "      <th>days_left</th>\n",
       "      <th>price</th>\n",
       "      <th>duration_minutes</th>\n",
       "      <th>routes</th>\n",
       "      <th>duration_slab</th>\n",
       "    </tr>\n",
       "  </thead>\n",
       "  <tbody>\n",
       "    <tr>\n",
       "      <th>0</th>\n",
       "      <td>SpiceJet</td>\n",
       "      <td>SG-8709</td>\n",
       "      <td>Delhi</td>\n",
       "      <td>Evening</td>\n",
       "      <td>zero</td>\n",
       "      <td>Night</td>\n",
       "      <td>Mumbai</td>\n",
       "      <td>Economy</td>\n",
       "      <td>1</td>\n",
       "      <td>5953.0</td>\n",
       "      <td>137.0</td>\n",
       "      <td>Delhi-Mumbai</td>\n",
       "      <td>2 to 5 hrs</td>\n",
       "    </tr>\n",
       "    <tr>\n",
       "      <th>1</th>\n",
       "      <td>SpiceJet</td>\n",
       "      <td>SG-8157</td>\n",
       "      <td>Delhi</td>\n",
       "      <td>Early_Morning</td>\n",
       "      <td>zero</td>\n",
       "      <td>Morning</td>\n",
       "      <td>Mumbai</td>\n",
       "      <td>Economy</td>\n",
       "      <td>1</td>\n",
       "      <td>5953.0</td>\n",
       "      <td>153.0</td>\n",
       "      <td>Delhi-Mumbai</td>\n",
       "      <td>2 to 5 hrs</td>\n",
       "    </tr>\n",
       "  </tbody>\n",
       "</table>\n",
       "</div>"
      ],
      "text/plain": [
       "    airline   flight source_city departure_time stops arrival_time  \\\n",
       "0  SpiceJet  SG-8709       Delhi        Evening  zero        Night   \n",
       "1  SpiceJet  SG-8157       Delhi  Early_Morning  zero      Morning   \n",
       "\n",
       "  destination_city    class  days_left   price  duration_minutes  \\\n",
       "0           Mumbai  Economy          1  5953.0             137.0   \n",
       "1           Mumbai  Economy          1  5953.0             153.0   \n",
       "\n",
       "         routes duration_slab  \n",
       "0  Delhi-Mumbai    2 to 5 hrs  \n",
       "1  Delhi-Mumbai    2 to 5 hrs  "
      ]
     },
     "execution_count": 64,
     "metadata": {},
     "output_type": "execute_result"
    }
   ],
   "source": [
    "df.head(2)"
   ]
  },
  {
   "cell_type": "markdown",
   "id": "3830f068",
   "metadata": {},
   "source": [
    "### Saving the cleaned data"
   ]
  },
  {
   "cell_type": "code",
   "execution_count": 70,
   "id": "ffae29d6",
   "metadata": {},
   "outputs": [],
   "source": [
    "df.to_csv(r\"B:\\Summer_Training_2024\\Flight_Fare_Prediction\\flight_data_cleaned.csv\", \n",
    "          index = False)"
   ]
  },
  {
   "cell_type": "code",
   "execution_count": null,
   "id": "36d59563",
   "metadata": {},
   "outputs": [],
   "source": []
  }
 ],
 "metadata": {
  "kernelspec": {
   "display_name": "Python 3 (ipykernel)",
   "language": "python",
   "name": "python3"
  },
  "language_info": {
   "codemirror_mode": {
    "name": "ipython",
    "version": 3
   },
   "file_extension": ".py",
   "mimetype": "text/x-python",
   "name": "python",
   "nbconvert_exporter": "python",
   "pygments_lexer": "ipython3",
   "version": "3.9.7"
  }
 },
 "nbformat": 4,
 "nbformat_minor": 5
}
