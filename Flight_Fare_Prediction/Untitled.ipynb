{
 "cells": [
  {
   "cell_type": "code",
   "execution_count": 1,
   "id": "3f68f84b",
   "metadata": {},
   "outputs": [],
   "source": [
    "# Importing necessary modules\n",
    "import string\n",
    "import random"
   ]
  },
  {
   "cell_type": "code",
   "execution_count": 39,
   "id": "e69ec13b",
   "metadata": {},
   "outputs": [
    {
     "name": "stdout",
     "output_type": "stream",
     "text": [
      "The input string is: \n",
      " ojtmeckziacyxzxlthmivxwmgyrgrlkgatpipwqbzzvirlgvwwdhtafppsfanlknmsbzvyxkdfzkwuyghjjsgkljnflmsamcvwulothglrqgbrkbqqsgnzknzkycboueafyoelcokienfubmeiyewuudaovduidbojnmmmcartoaunulyrfldnrjkvilmyxteaicfhsukgtrnkvgrtdwdhektbsiwycccmvletbfaxaipousjsbstwqtekdhohbpjnmmycdfnsvkxphwdaliwucjrnbltgkqeaulbczslgxmmytijlqwzzorfauvpmeylzjzoiyxqytpijakrtkpcjtqkgwjhoytmhaopjjrzeublybqxsirjyadsvaqvwbqjqxsxbbizlrgxtbxyslwwcmvqglxqgxyhlvpgmqppmmgnhijvleodisevlnpjaulnorvlvgjstzxfsbohcvsohogqamcmntjalzkjzpjpwpyeyvtepdowpvwzpyvepqfemwuxqpwdqpniwrkcvdkmikleesoyidbcyqkqfltkdvcksraxzmziiaukiykfkxtdzdhkjrqlxcogekzovsvcmwwrimdvoautbnnvhkinmhvpuduszikrrqknvnrlzlhcutycpiztjygebssmmelyzuytrekwdqkagaywerbcdwnxziueenstvxbnbatjcrhvdhmehhzkirwyjzwgpluybukjlahbzazsbrszcvoiccuahgdxbwksqmuleeklsdicuokpsorqcnnbiymdatxcxgqohczzkfpvtlhzafifzaikhgsadpnnrecdsyitpuwaledlkokjveumxqnvbxdutnkakvznpgpbsxevvzvydtaaducyrqgveftdakblbaugredotkpwlpqfwuxcksvepugcvnipcslygnxiwijnfhmlfsbprujfhbjtrnxhstvrxuyhfrbfmbtwysfxesyxsazjmcyguteybplhgts\n",
      "\n",
      "The luckiest letter is:  h\n"
     ]
    }
   ],
   "source": [
    "# Generating a random string of given no of letters\n",
    "n = 1000\n",
    "s = ''.join(random.choices(string.ascii_lowercase, k=n))\n",
    "print(\"The input string is: \\n\", s)\n",
    "print()\n",
    "\n",
    "# Creating a function to check prime numbers\n",
    "def is_prime(n):\n",
    "    flag = 0\n",
    "    for i in range(2, (n+1)//2):\n",
    "        if n%i == 0:\n",
    "            flag = 1\n",
    "            break\n",
    "    return flag\n",
    "\n",
    "# Printing the luckiest letter\n",
    "k = len(s)\n",
    "if k > 1:\n",
    "    for i in range(k,1,-1):\n",
    "        f = is_prime(i)\n",
    "        if f == 0:\n",
    "            print(\"The luckiest letter is: \", s[i-1])\n",
    "            break\n",
    "else:\n",
    "    print(\"Input should be greater than 1\")\n",
    "        \n",
    "    \n"
   ]
  },
  {
   "cell_type": "code",
   "execution_count": null,
   "id": "06ab7156",
   "metadata": {},
   "outputs": [],
   "source": []
  }
 ],
 "metadata": {
  "kernelspec": {
   "display_name": "Python 3 (ipykernel)",
   "language": "python",
   "name": "python3"
  },
  "language_info": {
   "codemirror_mode": {
    "name": "ipython",
    "version": 3
   },
   "file_extension": ".py",
   "mimetype": "text/x-python",
   "name": "python",
   "nbconvert_exporter": "python",
   "pygments_lexer": "ipython3",
   "version": "3.9.7"
  }
 },
 "nbformat": 4,
 "nbformat_minor": 5
}
